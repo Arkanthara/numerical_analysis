{
  "cells": [
    {
      "cell_type": "markdown",
      "metadata": {
        "id": "Z6FTPzZx1idO"
      },
      "source": [
        "# TP 10 : Valeurs et vecteurs propres"
      ]
    },
    {
      "cell_type": "markdown",
      "metadata": {
        "id": "nk-4XlUq1idR"
      },
      "source": [
        "Au programme de ce TP :\n",
        "\n",
        "- La méthode des puissances pour estimer la valeur propre (et son vecteur propre) dominante d'une matrice.\n",
        "- La méthode de la puissance inverse pour estimer la valeur propre (et son vecteur propre) la plus proche d'une valeur donnée.\n",
        "- L'itération orthogonale pour estimer plusieurs valeurs propres (et leurs vecteurs propres) à la fois.\n",
        "\n",
        "Comme votre professeur n'a pas relu le TP, son contenu est susceptible de changer la semaine prochaine."
      ]
    },
    {
      "cell_type": "markdown",
      "metadata": {
        "id": "D5_Um36a1idS"
      },
      "source": [
        "### Importations des paquets"
      ]
    },
    {
      "cell_type": "code",
      "execution_count": null,
      "metadata": {
        "id": "7nQFfFnn1idS"
      },
      "outputs": [],
      "source": [
        "import numpy as np\n",
        "import matplotlib.pyplot as plt\n",
        "from scipy.linalg import subspace_angles\n",
        "#from tqdm import tqdm"
      ]
    },
    {
      "cell_type": "markdown",
      "metadata": {
        "id": "6TwaHlDW1idT"
      },
      "source": [
        "## Exercice 1 : Méthode de la puissance"
      ]
    },
    {
      "cell_type": "markdown",
      "metadata": {
        "id": "D5PRJcf71idT"
      },
      "source": [
        "Le but de cet exercice est d'implémenter la méthode de la puissance, et de vérifier la théorie vue en cours.\n",
        "\n",
        "Si besoin, vous pouvez vous référer à l'algorithme 9.10 du polycopié.\n",
        "\n",
        "- Implémenter la méthode de la puissance.\n",
        "\n",
        "Remarque: Si vous implémentez un critère d'arrêt, vous pouvez utiliser la norme entre deux itérés successifs $\\| \\lambda_{k+1} \\pmb{v}_{k+1} - \\lambda_{k} \\pmb{v}_{k} \\|_2$. "
      ]
    },
    {
      "cell_type": "code",
      "execution_count": null,
      "metadata": {
        "id": "Mlfl0d6Q1idT"
      },
      "outputs": [],
      "source": [
        "def methode_puissance(A, x0, max_iter=1000, tol=1e-6):\n",
        "    \"\"\"\n",
        "    Calcule la valeur propre dominate de A, et son vecteur propre associé.\n",
        "\n",
        "    Entrées\n",
        "    -------\n",
        "    A : np.ndarray\n",
        "        Matrice carrée de taille (n, n).\n",
        "    x0 : np.ndarray\n",
        "        Vecteur de taille n.\n",
        "    max_iter : int\n",
        "        Nombre maximal d'itérations.\n",
        "    tol : float\n",
        "        Tolérance pour le critère d'arrêt.\n",
        "\n",
        "    Sorties\n",
        "    -------\n",
        "    lk : list\n",
        "        Liste des valeurs propres calculées à chaque itération.\n",
        "    vk : list\n",
        "        Liste des vecteurs propres calculés à chaque itération.\n",
        "    \"\"\"\n",
        "    # VOTRE CODE ICI\n",
        "    "
      ]
    },
    {
      "cell_type": "code",
      "execution_count": null,
      "metadata": {
        "id": "OnSGAVgn1idU"
      },
      "outputs": [],
      "source": [
        "# Test automatique\n",
        "Lambda = np.array([[1, 0, 0], [0, 2, 0], [0, 0, 3]])\n",
        "Q, _ = np.linalg.qr(np.random.randn(3, 3))\n",
        "A = np.dot(Q, np.dot(Lambda, Q.T))\n",
        "x0 = np.ones(3)\n",
        "lk, vk = methode_puissance(A, x0)\n",
        "assert np.allclose(lk[-1], 3), \"La valeur propre dominante n'est pas correcte.\"\n",
        "assert np.abs(subspace_angles(vk[-1][:, None], Q[:, 2][:, None])), \"Le vecteur propre associé n'est pas correct.\"\n"
      ]
    },
    {
      "cell_type": "markdown",
      "metadata": {
        "id": "WIXMM9vn1idU"
      },
      "source": [
        "Comme nous l'avons vu dans le cours, la convergence de la méthode des puissances dépend du \"gap\" entre la valeur propre dominante et la deuxième valeur propre (en module).\n",
        "\n",
        "Générez des matrices aléatoires avec les valeurs propres suivantes :\n",
        "- En escalier : $\\mathrm{Spect}(A_1) = \\{1, 0.99, 0.98, 0.97, 0.1, 0.099, 0.098, 0.097 \\}$;\n",
        "- À décroissance exponentielle : $\\mathrm{Spect}(A_2) = \\{1, 0.1, 0.01, \\ldots, 1e-15 \\}$;\n",
        "- Avec une seule valeur propre non-nulle : $\\mathrm{Spect}(A_3) = \\{1, 0, 0, \\ldots, 0 \\}$;\n",
        "- Avec deux valeurs propres dominantes exactement identiques : $\\mathrm{Spect}(A_4) = \\{1, 1, 0.1, 0.01, \\ldots, 1e-15 \\}$.\n",
        "\n",
        "Pour générer de telles matrices, vous pouvez construire la diagonale puis générer une (ou deux) matrices aléatoires orthogonales et les multiplier. Voir l'exemple ci-dessous.\n",
        "\n",
        "```python\n",
        "import numpy as np\n",
        "\n",
        "Lambda = np.diag([1, 0.99, 0.98, 0.97, 0.1, 0.099, 0.098, 0.097])\n",
        "Q1, _ = np.linalg.qr(np.random.randn(8, 8))\n",
        "A = Q1 @ Lambda @ Q1.T # A est symétrique\n",
        "\n",
        "Q2, _ = np.linalg.qr(np.random.randn(8, 8))\n",
        "B = Q1 @ Lambda @ Q2.T # B n'est pas symétrique\n",
        "```\n",
        "\n",
        "- Appliquer la méthode des puissances à chacune de ces matrices. Dans chaque cas,\n",
        "    - Tracer la convergence de la valeur propre $\\| \\lambda^{(k)} - \\lambda_{max} \\|$ en fonction de $k$.\n",
        "    - Tracer la convergence (en angle) du vecteur propre $\\sin \\theta(\\pmb{v}^{(k)}, \\pmb{v}_{max})$ en fonction de $k$.\n",
        "    - Lorsque c'est possible, tracer la convergence asymptotique vue en cours.\n",
        "- Qu'observez-vous ? Vos résultats sont-ils cohérents avec la théorie ?"
      ]
    },
    {
      "cell_type": "code",
      "execution_count": null,
      "metadata": {
        "id": "710dY0pW1idV"
      },
      "outputs": [],
      "source": [
        "# VOTRE CODE ICI\n",
        "\n"
      ]
    },
    {
      "attachments": {},
      "cell_type": "markdown",
      "metadata": {
        "id": "0-2JCfEz1idV"
      },
      "source": [
        "*Vos observations ici*\n",
        "\n"
      ]
    },
    {
      "cell_type": "markdown",
      "metadata": {
        "id": "P_U9Lat11idV"
      },
      "source": [
        "## Exercice 2 : Méthode de la puissance inverse\n",
        "\n",
        "L'idée de la méthode de la puissance inverse est de translater (shift $\\sigma$) la matrice $A$ puis l'inverser pour faire en sorte que la valeur propre que l'on cherche devienne la valeur propre dominante de la matrice translatée-inversée.\n",
        "\n",
        "Si besoin, vous pouvez vous référer à l'algorithme 9.11 du polycopié.\n",
        "\n",
        "**Attention:** Dans le reste de l'exercice, nous utiliserons des valeurs propres complexes. Comme dans le TP9, faites attention à bien utiliser des nombres complexes (`np.complex128`) et non des nombres réels (`np.float64`).\n",
        "\n",
        "- Implémenter la méthode de la puissance inverse (qui supporte les nombres complexes).\n"
      ]
    },
    {
      "cell_type": "code",
      "execution_count": null,
      "metadata": {
        "id": "b-czUXGS1idW"
      },
      "outputs": [],
      "source": [
        "def methode_puissance_inverse(A, x0, sigma, max_iter=1000, tol=1e-6):\n",
        "    \"\"\"\n",
        "    Calcule la valeur propre de A la plus proche de sigma et son vecteur propre associé.\n",
        "\n",
        "    Entrées\n",
        "    -------\n",
        "    A : np.ndarray\n",
        "        Matrice carrée de taille (n, n).\n",
        "    x0 : np.ndarray\n",
        "        Vecteur de taille n.\n",
        "    mu : float\n",
        "        Valeur autour de laquelle on cherche la valeur propre.\n",
        "    max_iter : int\n",
        "        Nombre maximal d'itérations.\n",
        "    tol : float\n",
        "        Tolérance pour le critère d'arrêt.\n",
        "\n",
        "    Sorties\n",
        "    -------\n",
        "    lk : list\n",
        "        Liste des valeurs propres calculées à chaque itération.\n",
        "    vk : list\n",
        "        Liste des vecteurs propres calculés à chaque itération.\n",
        "    \"\"\"\n",
        "    # VOTRE CODE ICI\n",
        "    "
      ]
    },
    {
      "cell_type": "code",
      "execution_count": null,
      "metadata": {
        "id": "dDdFGE3X1idW"
      },
      "outputs": [],
      "source": [
        "# Test automatique\n",
        "Lambda = np.array([[3 + 1j, 0, 0], [0, 2 + 2j, 0], [0, 0, 1 + 1j]])\n",
        "Q, _ = np.linalg.qr(np.random.randn(3, 3))\n",
        "A = np.dot(Q, np.dot(Lambda, Q.T))\n",
        "x0 = np.random.randn(3)\n",
        "mu = 3\n",
        "lk, vk = methode_puissance_inverse(A, x0, mu)\n",
        "assert np.allclose(lk[-1], 3 + 1j), \"La valeur propre la plus proche n'est pas correcte.\"\n",
        "assert np.abs(subspace_angles(vk[-1][:, None], Q[:, 0][:, None])), \"Le vecteur propre associé n'est pas correct.\"\n"
      ]
    },
    {
      "cell_type": "markdown",
      "metadata": {
        "id": "ICB8r4o-1idW"
      },
      "source": [
        "Maintenant, l'idée est d'appliquer la méthode de la puissance inverse à une matrice $A$ dont on connaît les valeurs propres, et d'étudier la convergence de la méthode en fonction du choix de $\\sigma$.\n",
        "\n",
        "Soit une matrice inversible $T \\in \\mathbb{R}^{4 \\times 4}$, considérons la matrice  \n",
        "$$ A = T \\begin{pmatrix} 1 + i & & & \\\\ & 1 - i & & \\\\ & & -1 + i & \\\\ & & & -1 - i \\end{pmatrix} T^{-1}.$$\n",
        "\n",
        "Ses valeurs propres sont donc $\\mathrm{Spect}(A) = \\{1 + i, 1 - i, -1 + i, -1 - i \\}$.\n"
      ]
    },
    {
      "cell_type": "code",
      "execution_count": null,
      "metadata": {
        "id": "d89YY-tm1idX"
      },
      "outputs": [],
      "source": [
        "# Génération de la matrice T\n",
        "T = np.random.rand(4, 4)\n",
        "Lambda = np.diag([1+1j, 1-1j, -1+1j, -1-1j])\n",
        "A = np.dot(T, np.dot(Lambda, np.linalg.inv(T)))\n",
        "\n",
        "# Plot des valeurs propres\n",
        "plt.figure()\n",
        "plt.scatter(np.real(np.diag(Lambda)), np.imag(np.diag(Lambda)), marker='x', s=100, label='Valeurs propres exactes')\n",
        "plt.grid()\n",
        "plt.xlim([-2, 2])\n",
        "plt.ylim([-2, 2])\n",
        "plt.xlabel(\"Partie réelle\")\n",
        "plt.ylabel(\"Partie imaginaire\")\n",
        "plt.title(\"Valeurs propres exactes\")\n",
        "plt.legend()\n",
        "plt.show()\n"
      ]
    },
    {
      "cell_type": "markdown",
      "metadata": {
        "id": "MsabMKIN1idX"
      },
      "source": [
        "- Pour cette matrice $A$, choisir une valeur $\\sigma$ et tracer les itération de $\\lambda_k$ sur le plan complexe."
      ]
    },
    {
      "cell_type": "code",
      "execution_count": null,
      "metadata": {
        "id": "z0NQmQ2M1idX"
      },
      "outputs": [],
      "source": [
        "# VOTRE CODE ICI\n"
      ]
    },
    {
      "cell_type": "markdown",
      "metadata": {
        "id": "8tONQF0P1idX"
      },
      "source": [
        "Similairement à la fractale de Newton dans le TP8, on peut définir les bassins d'attractions des valeurs propres de $A$.\n",
        "\n",
        "$$\\mathcal B_i(A) = \\left\\{\\sigma \\mid \\text{la méthode de la puissance converge vers } \\lambda_i \\right\\}.$$\n",
        "\n",
        "Ainsi, on peut donc tracer les bassins d'attractions des valeurs propres de $A$ en choisissant une grille de points $z$ et en colorant chaque point $z$ selon la valeur propre vers laquelle la méthode des puissances inverses converge.\n",
        "\n",
        "- Tracer les bassins d'attractions des valeurs propres de la matrice $A$ donnée précédemment.\n",
        "- Qu'observez-vous ? Est-ce ce à quoi vous vous attendiez ?\n"
      ]
    },
    {
      "cell_type": "code",
      "execution_count": null,
      "metadata": {
        "id": "oVRLZt6s1idY"
      },
      "outputs": [],
      "source": [
        "# VOTRE CODE ICI\n",
        "            "
      ]
    },
    {
      "attachments": {},
      "cell_type": "markdown",
      "metadata": {
        "id": "l2EV2CO61idY"
      },
      "source": [
        "*Votre observation ici*\n"
      ]
    },
    {
      "attachments": {},
      "cell_type": "markdown",
      "metadata": {
        "id": "y5nUqxOK1idY"
      },
      "source": [
        "## Exercice 3 : L'itération orthogonale\n",
        "\n",
        "L'itération orthogonale permet, similairement à la méthode de la puissance, de calculer plusieurs valeurs propres dominantes d'une matrice $A$ simultanément, ainsi que leurs vecteurs propres associés.\n",
        "\n",
        "Si besoin, vous pouvez vous référer à l'algorithme 8.18 du polycopié.\n",
        "\n",
        "- Implémenter l'itération orthogonale.\n",
        "  "
      ]
    },
    {
      "cell_type": "code",
      "execution_count": null,
      "metadata": {
        "id": "82J0C6a61idY"
      },
      "outputs": [],
      "source": [
        "def iteration_orthogonale(A, X0, p, max_iter=1000, tol=1e-12):\n",
        "    \"\"\"\n",
        "    Itération orthogonale pour calculer plusieurs valeurs propres dominantes de A.\n",
        "\n",
        "    Entrées\n",
        "    -------\n",
        "    A : np.ndarray\n",
        "        Matrice carrée de taille (n, n).\n",
        "    X0 : np.ndarray\n",
        "        Matrice orthogonale de taille (n, p).\n",
        "    p : int\n",
        "        Nombre de valeurs propres à calculer.\n",
        "    nb_iter : int\n",
        "        Nombre d'itérations.\n",
        "    tol : float\n",
        "        Tolérance pour le critère d'arrêt.\n",
        "\n",
        "    Sorties\n",
        "    -------\n",
        "    Lk: list\n",
        "        Liste des valeurs propres calculées à chaque itération.\n",
        "    Vk: list\n",
        "        Liste des vecteurs propres calculés à chaque itération.\n",
        "    \"\"\"\n",
        "    # VOTRE CODE ICI\n",
        "\n"
      ]
    },
    {
      "cell_type": "code",
      "execution_count": null,
      "metadata": {
        "id": "WVp1aB5C1idZ"
      },
      "outputs": [],
      "source": [
        "# Test automatique\n",
        "np.random.seed(0)\n",
        "Lambda = np.diag([5, 4, 3, 2, 1])\n",
        "Q, _ = np.linalg.qr(np.random.randn(5, 5))\n",
        "A = Q.dot(Lambda).dot(Q.T)\n",
        "p = 3\n",
        "X0, _ = np.linalg.qr(np.random.randn(5, p))\n",
        "\n",
        "Lk, Vk = iteration_orthogonale(A, X0, p)\n",
        "assert np.allclose(Lk[-1], Lambda[:p, :p], atol=1e-6), \"Erreur dans la méthode des puissances inverses\"\n",
        "assert np.allclose(np.abs(Vk[-1]), np.abs(Q[:, :p]), atol=1e-6), \"Erreur dans la méthode des puissances inverses\"\n"
      ]
    },
    {
      "cell_type": "markdown",
      "metadata": {
        "id": "GRNLdG6J1idZ"
      },
      "source": [
        "- Générer une matrice symétrique aléatoire $A \\in \\mathbb{R}^{20 \\times 20}$ et estimer ses $5$ valeurs propres dominantes avec `iteration_orthogonale`. Comparer avec les valeurs propres calculées par `np.linalg.eigvalsh`.\n",
        "- Pour les cinq valeurs propres dominantes $\\lambda_i$, $i= 1, \\ldots, 5$, tracer la convergence de la valeur propre $\\| \\lambda_i^{(k)} - \\lambda_i \\|$ en fonction de $k$."
      ]
    },
    {
      "cell_type": "code",
      "execution_count": null,
      "metadata": {
        "id": "_qKhIaVi1idZ"
      },
      "outputs": [],
      "source": [
        "# Matrice symétrique aléatoire\n",
        "n = 20\n",
        "p = 5\n",
        "np.random.seed(0)\n",
        "A = np.random.randn(n, n)\n",
        "A = A + A.T\n",
        "X0, _ = np.linalg.qr(np.random.randn(n, p))\n",
        "\n",
        "# VOTRE CODE ICI\n",
        "\n",
        "\n",
        "\n",
        "\n"
      ]
    }
  ],
  "metadata": {
    "colab": {
      "provenance": []
    },
    "kernelspec": {
      "display_name": "teaching",
      "language": "python",
      "name": "python3"
    },
    "language_info": {
      "codemirror_mode": {
        "name": "ipython",
        "version": 3
      },
      "file_extension": ".py",
      "mimetype": "text/x-python",
      "name": "python",
      "nbconvert_exporter": "python",
      "pygments_lexer": "ipython3",
      "version": "3.11.0"
    },
    "orig_nbformat": 4
  },
  "nbformat": 4,
  "nbformat_minor": 0
}
