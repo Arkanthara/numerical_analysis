{
 "cells": [
  {
   "attachments": {},
   "cell_type": "markdown",
   "metadata": {},
   "source": [
    "# TP 9 : Applications de la méthode de Newton\n",
    "\n"
   ]
  },
  {
   "attachments": {},
   "cell_type": "markdown",
   "metadata": {},
   "source": [
    "Durant ce TP, nous verrons quelques applications de la méthode de Newton. \n",
    "\n",
    "Au programme:\n",
    "1. Résoudre une équation différentielle à l'aide de la méthode de Newton.\n",
    "2. L'estimation de paramètres avec Gauss-Newton.\n",
    "3. A venir: Vecteurs propres et valeurs propres via Newton.\n",
    "\n",
    "Commençons par importer quelques paquets de Python. De plus, on va ré-utiliser la fonction `Newton_vectoriel` définie dans le précédent TP."
   ]
  },
  {
   "cell_type": "code",
   "execution_count": null,
   "metadata": {},
   "outputs": [],
   "source": [
    "# Paquets de Python\n",
    "import numpy as np\n",
    "from matplotlib import pyplot as plt\n",
    "from scipy.sparse import diags\n",
    "\n",
    "# Newton vectoriel\n",
    "def Newton_vectoriel(f, df, x0, max_iter, tol):\n",
    "    \"\"\"Méthode de Newton vectoriel.\n",
    "    L'itération s'arrête lorsque le nombre maximal d'itérations est atteint,\n",
    "    ou bien lorsque la différence entre deux itérations est plus petite que la tolérance donnée.\n",
    "\n",
    "    Entrées\n",
    "    -------\n",
    "    f : callable\n",
    "        Fonction du problème; y = f(x)\n",
    "    df : callable\n",
    "        Dérivée de f; z = df(x)\n",
    "    x0 : ndarray\n",
    "        Valeur initiale\n",
    "    max_iter : int\n",
    "        Nombre maximal d'itérations\n",
    "    tol : float\n",
    "        Tolérance pour la convergence\n",
    "\n",
    "    Sorties\n",
    "    -------\n",
    "    xk: list\n",
    "        Liste des valeurs de x à chaque itération\n",
    "    \"\"\"\n",
    "    xk = [x0]\n",
    "    for k in np.arange(max_iter):\n",
    "        x1 = xk[-1] - np.linalg.solve(df(xk[-1]), f(xk[-1]))\n",
    "        xk.append(x1)\n",
    "        if np.linalg.norm(x1 - xk[-2]) < tol:\n",
    "            break\n",
    "    return xk"
   ]
  },
  {
   "attachments": {},
   "cell_type": "markdown",
   "metadata": {},
   "source": [
    "## Exercice 1. Discrétisation d'une équation aux dérivées partielles\n"
   ]
  },
  {
   "attachments": {},
   "cell_type": "markdown",
   "metadata": {},
   "source": [
    "Considérons l'équation différentielle non-linéaire avec conditions aux bords\n",
    "\n",
    "$$\n",
    "\\begin{align*}\n",
    "&v''(t) + 2 e^{v(t)} - \\sin(v(t)) = 0, \\quad 0 < t < 1, \\\\ \n",
    "&v(0) = v(1) = 0.\n",
    "\\end{align*}\n",
    "$$\n",
    "\n",
    "Nous allons approximer une solution $v(t)$ numériquement. Pour cela, on commence par discrétiser l'intervalle $[0, 1]$ en $n+1$ sous-intervalles égaux. On obtient alors les points \n",
    "\n",
    "$$t_i = ih = \\frac{i}{n+1}, \\quad i = 0, 1, 2, \\ldots, n.$$\n",
    "\n",
    "On s'intéresse donc aux valeurs de la fonction aux points discrets $$v_i = v(t_i), \\quad i = 0, 1, \\ldots, n+1.$$ En particulier, les conditions de bords impliquent que $v_0 = v_{n+1} = 0$. De plus, on peut utiliser une différence finie pour obtenir que\n",
    "\n",
    "$$\\frac{v_{i+1} - 2 v_i + v_{i-1}}{h^2} + 2 e^{v_i} - \\sin(v_i) = 0, \\quad i = 1, 2, \\ldots, n.$$\n",
    "\n",
    "Sous forme matricielle, ce problème est équivalent à résoudre le système linéaire\n",
    "\n",
    "$$F(\\pmb{v}) = \\begin{pmatrix} -2 & 1 & & \\\\ 1 & -2 & \\ddots & \\\\ & \\ddots & \\ddots & 1 \\\\ & & 1 & -2 \\end{pmatrix} \\begin{pmatrix} v_1 \\\\ v_2 \\\\ \\vdots \\\\ v_n \\end{pmatrix} + h^2 \\begin{pmatrix} 2 e^{v_1} - \\sin(v_1) \\\\ 2 e^{v_2} - \\sin(v_2) \\\\ \\vdots \\\\ 2 e^{v_n} - \\sin(v_n) \\end{pmatrix} = 0.$$\n",
    "\n",
    "- Calculer la racine $F(\\pmb{v}) = 0$ par la méthode de Newton, et tracer la solution $v(t)$. Vous pouvez configurer le problème avec une taille $n=24$, et utiliser la tolérance $tol = 10^{-7}$ pour la méthode de Newton. Utiliser une valeur initiale nulle.\n",
    "\n",
    "**Indication:**\n",
    "Pour faire une matrice tridiagonale dans Python, vous pouvez utiliser la commande `diags` du package `scipy.sparse`. Pour cela, il faut donner les composantes des diagonales et préciser leur emplacements avec l'argument `offset`. Par exemple, ici, `offset = [-1, 0, 1]`. Pour plus d'informations, voir la documentation de la fonction.\n",
    "\n",
    "Lorsque vous tracez la solution, n'oubliez pas d'ajouter les conditions aux bords. Pour cela, vous pouvez utiliser la fonction `np.concatenate` pour concaténer de nouvelles valeurs au vecteur solution."
   ]
  },
  {
   "cell_type": "code",
   "execution_count": null,
   "metadata": {},
   "outputs": [],
   "source": [
    "# VOTRE CODE ICI\n",
    "\n",
    "\n"
   ]
  },
  {
   "attachments": {},
   "cell_type": "markdown",
   "metadata": {},
   "source": [
    "- Utiliser le vecteur de départ $$\\pmb{v}_0 = \\alpha \\begin{pmatrix} t_1 (1-t_1) \\\\ \\vdots \\\\ t_n (1-t_n) \\end{pmatrix}$$ avec différents paramètres $\\alpha$ (disons, 0 et 15) et observer la solution vers laquelle l'algorithme converge. "
   ]
  },
  {
   "cell_type": "code",
   "execution_count": null,
   "metadata": {},
   "outputs": [],
   "source": [
    "n = 24\n",
    "ts = np.linspace(0, 1, n)\n",
    "\n",
    "# Cas alpha = 0\n",
    "# VOTRE CODE ICI\n",
    "\n",
    "# Cas alpha = 15\n",
    "# VOTRE CODE ICI\n",
    "\n",
    "# Affichage des solution\n",
    "# VOTRE CODE ICI\n",
    "\n",
    "\n"
   ]
  },
  {
   "attachments": {},
   "cell_type": "markdown",
   "metadata": {},
   "source": [
    "## Exercice 2. Gauss-Newton\n",
    "\n",
    "Considérons le problème de minimisation non-linéaire\n",
    "\n",
    "$$\\min_x \\frac{1}{2} \\| r(x) \\|^2_2. $$\n",
    "\n",
    "où $r : \\mathbb{R}^n \\to \\mathbb{R}^m$ avec $m > n$. \n",
    "\n",
    "La méthode de Gauss-Newton procède de la manière suivante:\n",
    "\n",
    "1. Minimiser avec les moindres carrés : $\\| r'(x^{(k)}) p_k + r(x^{(k)}) \\|_2 \\rightarrow \\min.$\n",
    "2. Calculer : $x^{(k+1)} = x^{(k)} + p_k.$\n",
    "\n",
    "Pour rappel, un vecteur $x^*$ minimise $\\|Ax  - b \\|$ si, et seulement si, il vérifie les équations normales $A^T A x^* = A^T b$.\n",
    "\n",
    "- Implémenter la méthode de Gauss-Newton.\n",
    "\n",
    "**Indication:** Pour résoudre les équations normales, vous pouvez utiliser une des méthodes que nous avons vu dans les TPs précédents, comme la décomposition de Cholesky ou la décomposition QR. Alternativement, vous pouvez utiliser la fonction `np.linalg.solve` pour résoudre le système linéaire.\n"
   ]
  },
  {
   "cell_type": "code",
   "execution_count": null,
   "metadata": {},
   "outputs": [],
   "source": [
    "def GaussNewton(r, dr, x0, tol, max_iter):\n",
    "    \"\"\"Algorithme de Gauss-Newton\n",
    "    \n",
    "    Entrées\n",
    "    -------\n",
    "    r : callable\n",
    "        Fonction à minimiser\n",
    "    dr : callable\n",
    "        Gradient de la fonction à minimiser\n",
    "    x0 : ndarray\n",
    "        Point de départ\n",
    "    tol : float\n",
    "        Tolérance sur la norme du gradient\n",
    "    max_iter : int\n",
    "        Nombre maximal d'itérations\n",
    "\n",
    "    Sorties\n",
    "    -------\n",
    "    xk_list: list\n",
    "        La liste des itérations de l'algorithme\n",
    "    \"\"\"\n",
    "    # VOTRE CODE ICI\n",
    "    "
   ]
  },
  {
   "attachments": {},
   "cell_type": "markdown",
   "metadata": {},
   "source": [
    "Pour tester la méthode, on génère des données en utilisant la fonction \n",
    "$$u(t) = 1.5 e^{-2.5 t} \\cos(15 t), \\quad \\text{ où } t_i = 0.02 (i-1), \\quad i = 1, \\ldots 51.$$\n",
    "Ensuite, on ajoute du bruit aléatoire à $u(t_i)$ pour obtenir des données $b_i$."
   ]
  },
  {
   "cell_type": "code",
   "execution_count": 16,
   "metadata": {},
   "outputs": [
    {
     "data": {
      "image/png": "[encoded data removed]",
      "text/plain": [
       "<Figure size 640x480 with 1 Axes>"
      ]
     },
     "metadata": {},
     "output_type": "display_data"
    }
   ],
   "source": [
    "# Génère les données\n",
    "ts = np.linspace(0, 1, 51)\n",
    "u = 1.5 * np.exp(-2.5*ts) * np.cos(15*ts)\n",
    "facteur_bruit = 0.25\n",
    "b = u + facteur_bruit * (np.random.uniform(-1, 1, size=51))\n",
    "\n",
    "# Plot des données\n",
    "plt.figure()\n",
    "plt.plot(ts, u, label='Original')\n",
    "plt.plot(ts, b, 'x', label='Observations')\n",
    "plt.grid()\n",
    "plt.xlabel('Temps')\n",
    "plt.legend()\n",
    "plt.show()\n"
   ]
  },
  {
   "attachments": {},
   "cell_type": "markdown",
   "metadata": {},
   "source": [
    "Maintenant, l'idée est d'utiliser nos données pour approcher une fonction de la forme \n",
    "$$v(t) = x_1 e^{x_2 t} \\cos(x_3 t).$$\n",
    "\n",
    "Ainsi, la $i$-ème ligne du résidu $\\pmb{r}$ et $dr$ sont définies par \n",
    "\n",
    "$$r_i = b_i - x_1 e^{x_2 t_i} \\cos(x_3 t_i), \\quad dr_{i,1} = - e^{x_2 t_i} \\cos (x_3 t_i),$$\n",
    "\n",
    "$$dr_{i,2} = - t_i x_1 e^{x_2 t_i} \\cos (x_3 t_i), \\quad dr_{i, 3} = t_i x_1 e^{x_2 t_i} \\sin (x_3 t_i),$$\n",
    "\n",
    "où $i = 1, \\ldots, 51$. \n",
    "\n",
    "- Mettre en oeuvre la méthode de Gauss-Newton sur ce problème pour reconstituer la valeur de $\\pmb{x} = (x_1, x_2, x_3)$ avec le choix initial $\\pmb{x}_0 = (1.8, -2.7, 18)$ et une tolérance $tol = 10^{-7}$. \n",
    "- Qu'obtient-ton pour $\\pmb{x}$ ? \n",
    "- Quelle est la valeur du résidu $\\| \\pmb{r} \\|$ correspondant ?\n",
    "- Reproduire la figure précédente en ajoutant la fonction estimée par la méthode de Gauss-Newton."
   ]
  },
  {
   "cell_type": "code",
   "execution_count": null,
   "metadata": {},
   "outputs": [],
   "source": [
    "# VOTRE CODE ICI\n",
    "\n"
   ]
  },
  {
   "attachments": {},
   "cell_type": "markdown",
   "metadata": {},
   "source": [
    "Maintenant, générez trois jeux de données:\n",
    "- un sans bruit,\n",
    "- un avec un petit bruit (facteur 0.25),\n",
    "- un avec plus de bruit (facteur 1).\n",
    "\n",
    "Pour chaque jeu de données, appliquez Gauss-Newton et affichez la convergence de la méthode. Qu'observez-vous ?"
   ]
  },
  {
   "cell_type": "code",
   "execution_count": null,
   "metadata": {},
   "outputs": [],
   "source": [
    "# Fixons l'aléatoire\n",
    "np.random.seed(1111)\n",
    "\n",
    "# VOTRE CODE ICI\n"
   ]
  },
  {
   "attachments": {},
   "cell_type": "markdown",
   "metadata": {},
   "source": [
    "** Votre observation ici **\n",
    "\n",
    "On observe que :\n",
    "- Avec le facteur de bruit $0$, la convergence est quadratique.\n",
    "- Avec le facteur de bruit $0.25$, la convergence est superlinéaire.\n",
    "- Avec le facteur de bruit $1$, la convergence est linéaire.\n",
    "\n",
    "Ainsi, plus le bruit dans les données est importants, plus il faudra d'itérations pour converger vers une solution."
   ]
  },
  {
   "cell_type": "markdown",
   "metadata": {},
   "source": [
    "## Exercice 3. Méthode de Newton pour le calcul des valeurs et vecteurs propres\n",
    "\n",
    "Dans cet exercice, nous vous demandons d'utiliser la méthode de Newton pour calculer les valeurs et vecteurs propres d'une matrice $A$. Pour cela, vous pouvez écrire le problème des valeurs propres $A \\pmb{v} = \\lambda \\pmb{v}$ comme l'équation non-linéaire suivante:\n",
    "\n",
    "$$f\\left(\\begin{bmatrix} \\pmb{v} \\\\ \\lambda \\end{bmatrix}\\right) = \\begin{bmatrix} (A - \\lambda I) \\pmb{v} \\\\ \\frac{1}{2} \\pmb{v}^T \\pmb{v} - 1 \\end{bmatrix} = 0.$$\n",
    "\n",
    "Ainsi, en calculant les racines de $f$, on résout la paire valeur/vecteur propre normalisé $A \\pmb{v} = \\lambda \\pmb{v}$, avec $\\| \\pmb{v} \\|_2^2 = 2$.\n",
    "\n",
    "- Compléter la fonction `newton_eigh` ci-dessous qui résout le problème ci-dessus au moyen de la méthode de Newton.\n",
    "\n"
   ]
  },
  {
   "cell_type": "code",
   "execution_count": null,
   "metadata": {},
   "outputs": [],
   "source": [
    "def newton_eigh(A, v0, lam0, max_iter, tol):\n",
    "    \"\"\"Vecteur et valeur propres par la méthode de Newton.\n",
    "\n",
    "    Entrées\n",
    "    -------\n",
    "    A: ndarray\n",
    "        Matrice symétrique dont il faut trouver les vecteurs et valeurs propres\n",
    "    v0: ndarray\n",
    "        Valeur initiale du vecteur propre\n",
    "    lam0: float\n",
    "        Valeur initiale de la valeur propre\n",
    "    max_iter: int\n",
    "        Nombre maximal d'itérations pour la méthode de Newton\n",
    "    tol: float\n",
    "        Tolerance pour la méthode de Newton\n",
    "\n",
    "    Sorties\n",
    "    -------\n",
    "    vk: list\n",
    "        Liste des vecteurs calculés par la méthode de Newton\n",
    "    lamk: list\n",
    "        Liste des valeurs calculées par la méthode de Newton\n",
    "    \"\"\"\n",
    "\n",
    "    # VOTRE CODE ICI\n",
    "\n",
    "    "
   ]
  },
  {
   "cell_type": "markdown",
   "metadata": {},
   "source": [
    "### Matrices symétriques\n",
    "\n",
    "Le code ci-dessous génère une matrice $A$ symétrique.\n",
    "\n",
    "- A l'aide de la fonction `np.linalg.eigh`, calculer les valeurs et vecteurs propres de $A$.\n",
    "- Tester la méthode `newton_eigh` sur cette même matrice $A$, et comparer les résultats avec ceux de `np.linalg.eigh`.\n",
    "\n",
    "**Indication:** \n",
    "- Perturber les valeurs propres et vecteurs propres trouvés par `np.linalg.eigh` pour initialiser la méthode de Newton.\n",
    "- Pour calculer le sinus entre deux vecteurs, vous pouvez utiliser la fonction `subspace_angles` du package `scipy.linalg`. Pour cela, il faut donner les vecteurs sous forme de colonnes. Par exemple, si $v$ et $w$ sont des vecteurs, alors `subspace_angles(v[:, None], w[:, None])` renvoie le sinus entre les deux vecteurs."
   ]
  },
  {
   "cell_type": "code",
   "execution_count": null,
   "metadata": {},
   "outputs": [],
   "source": [
    "from scipy.linalg import subspace_angles\n",
    "\n",
    "# Génération d'une matrice A symétrique\n",
    "n = 100\n",
    "np.random.seed(1111)\n",
    "D = np.diag(np.linspace(1, 10, n))\n",
    "Q, _ = np.linalg.qr(np.random.rand(n, n))\n",
    "A = Q @ D @ Q.T\n",
    "\n",
    "# VOTRE CODE ICI\n",
    "\n"
   ]
  },
  {
   "cell_type": "markdown",
   "metadata": {},
   "source": [
    "Toujours avec la même matrice $A$:\n",
    "\n",
    "- Tracer les courbes des erreurs $| \\lambda^{(k)} (A) - \\lambda_{\\min} (A) |$ et $| \\sin \\theta \\left( v^{(k)}, v_{\\min} \\right) |.$"
   ]
  },
  {
   "cell_type": "code",
   "execution_count": null,
   "metadata": {},
   "outputs": [],
   "source": [
    "# VOTRE CODE ICI"
   ]
  },
  {
   "cell_type": "markdown",
   "metadata": {},
   "source": [
    "### Matrices quelconques\n",
    "\n",
    "Dans le cas précédent, la matrice $A$ était symétrique et donc ses valeurs propres étaient réelles.\n",
    "\n",
    "De manière générale, les valeurs propres d'une matrice $B$ quelconque seront complexes. Il faut alors être prudent avec l'implémentation, et s'assurer que le type de données utilisé permet de stocker des nombres complexes.\n",
    "\n",
    "- Similairement à `newton_eigh`, implémenter la méthode `newton_eig` qui supporte des valeurs et vecteurs propres complexes.\n",
    "\n",
    "**Indication:** Normalement, vous pouvez ré-utiliser la majorité du code de `newton_eigh`.\n",
    "\n"
   ]
  },
  {
   "cell_type": "code",
   "execution_count": null,
   "metadata": {},
   "outputs": [],
   "source": [
    "def newton_eig(A, v0, lam0, max_iter, tol):\n",
    "    \"\"\"Vecteur et valeur propres par la méthode de Newton.\n",
    "\n",
    "    Entrées\n",
    "    -------\n",
    "    A: ndarray\n",
    "        Matrice dont il faut trouver les vecteurs et valeurs propres\n",
    "    v0: ndarray\n",
    "        Valeur initiale du vecteur propre\n",
    "    lam0: float\n",
    "        Valeur initiale de la valeur propre\n",
    "    max_iter: int\n",
    "        Nombre maximal d'itérations pour la méthode de Newton\n",
    "    tol: float\n",
    "        Tolerance pour la méthode de Newton\n",
    "\n",
    "    Sorties\n",
    "    -------\n",
    "    vk: list\n",
    "        Liste des vecteurs calculés par la méthode de Newton\n",
    "    lamk: list\n",
    "        Liste des valeurs calculées par la méthode de Newton\n",
    "    \"\"\"\n",
    "\n",
    "    # VOTRE CODE ICI\n"
   ]
  },
  {
   "cell_type": "markdown",
   "metadata": {},
   "source": [
    "Le code ci-dessous génère une matrice $B$ quelconque.\n",
    "\n",
    "- À l'aide de la fonction `np.linalg.eig`, calculer les valeurs et vecteurs propres de $B$.\n",
    "- Tester la méthode `newton_eig` sur cette même matrice $B$, et comparer les résultats avec ceux de `np.linalg.eig`.\n",
    "- Tracer les courbes d'erreurs $| \\lambda^{(k)} (B) - \\lambda_{\\min} (B) |$ et $| \\sin \\theta \\left( v^{(k)}, v_{\\min} \\right) |.$\n",
    "\n",
    "Vérifiez bien que vos valeurs propres et vecteurs propres sont complexes !"
   ]
  },
  {
   "cell_type": "code",
   "execution_count": null,
   "metadata": {},
   "outputs": [],
   "source": [
    "from scipy.linalg import subspace_angles\n",
    "\n",
    "# Génération d'une matrice B non-symétrique\n",
    "n = 100\n",
    "np.random.seed(1111)\n",
    "D = np.diag(np.linspace(1, 10, n))\n",
    "Q, _ = np.linalg.qr(np.random.rand(n, n))\n",
    "B = Q @ D @ Q.T + np.random.rand(n, n)\n",
    "\n",
    "# VOTRE CODE ICI\n",
    "\n"
   ]
  }
 ],
 "metadata": {
  "kernelspec": {
   "display_name": "teaching",
   "language": "python",
   "name": "python3"
  },
  "language_info": {
   "codemirror_mode": {
    "name": "ipython",
    "version": 3
   },
   "file_extension": ".py",
   "mimetype": "text/x-python",
   "name": "python",
   "nbconvert_exporter": "python",
   "pygments_lexer": "ipython3",
   "version": "3.11.0"
  },
  "orig_nbformat": 4
 },
 "nbformat": 4,
 "nbformat_minor": 2
}
